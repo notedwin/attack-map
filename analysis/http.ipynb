{
 "cells": [
  {
   "cell_type": "code",
   "execution_count": null,
   "metadata": {},
   "outputs": [],
   "source": [
    "import os\n",
    "import re\n",
    "\n",
    "\n",
    "\n",
    "def main():\n",
    "    # move to the directory where the data is\n",
    "    os.chdir('/var/log/nginx')\n",
    "    with open('access.log', 'r') as f:\n",
    "        for line in f:\n",
    "            x = re.match(r'(\\d{1,3}\\.\\d{1,3}\\.\\d{1,3}\\.\\d{1,3}) - - \\[(\\d{2}/\\w{3}/\\d{4}:\\d{2}:\\d{2}:\\d{2} \\+\\d{4})\\] \\\"(.*?)\\\" \\d{0,3} \\d{0,3}', line)\n",
    "            \n",
    "            if x:\n",
    "                print(x.group(1), x.group(2), x.group(3))\n",
    "            else:\n",
    "                print('No match')\n",
    "                break\n",
    "        \n",
    "\n",
    "if __name__ == '__main__':\n",
    "    main()\n"
   ]
  },
  {
   "cell_type": "code",
   "execution_count": null,
   "metadata": {},
   "outputs": [],
   "source": [
    "# transfer redis data to postgresql\n",
    "\n",
    "#!/usr/bin/env python3\n",
    "# Path: analysis/redis.ipynb\n",
    "\n",
    "import redis\n",
    "import psycopg2\n",
    "import json\n",
    "import time\n",
    "\n",
    "def main():\n",
    "    # connect to redis\n",
    "    r = redis.Redis(host='localhost', port=6379, db=0)\n",
    "\n",
    "    # connect to postgresql\n",
    "    conn = psycopg2.connect(\"dbname='postgres' user='notedwin' host='192.168.0.106' password=''\")\n",
    "    cur = conn.cursor()\n",
    "\n",
    "    # create table\n",
    "    cur.execute('CREATE TABLE IF NOT EXISTS redis (id serial PRIMARY KEY, data jsonb);')\n",
    "    conn.commit()\n",
    "\n",
    "    # get data from redis\n",
    "    data = r.lrange('data', 0, -1)\n",
    "    for d in data:\n",
    "        # insert data into postgresql\n",
    "        cur.execute(\"INSERT INTO redis (data) VALUES (%s);\", (d,))\n",
    "        conn.commit()\n",
    "\n",
    "    # close connection\n",
    "    cur.close()\n",
    "    conn.close()"
   ]
  },
  {
   "cell_type": "code",
   "execution_count": 11,
   "metadata": {},
   "outputs": [],
   "source": [
    "import psycopg2\n",
    "import json\n",
    "import time\n",
    "import redis\n",
    "# connect to postgresql\n",
    "conn = psycopg2.connect(\"dbname='postgres' user='notedwin' host='192.168.0.106' password=''\")\n",
    "cur = conn.cursor()\n"
   ]
  },
  {
   "cell_type": "code",
   "execution_count": 12,
   "metadata": {},
   "outputs": [],
   "source": [
    "# connect to redis\n",
    "r = redis.Redis(host='192.168.0.106', password=\"\",port=6379, db=0)\n"
   ]
  },
  {
   "cell_type": "code",
   "execution_count": 18,
   "metadata": {},
   "outputs": [
    {
     "name": "stdout",
     "output_type": "stream",
     "text": [
      "b'1660598796' b'{\"user\":\"ubnt\",\"ip\":\"189.188.70.135\",\"lon\":-99.0887,\"lat\":19.5006,\"time\":\"1660598796\"}'\n",
      "b'1660454271' b'{\"user\":\"ansible\",\"ip\":\"124.223.183.97\",\"lon\":114.058,\"lat\":22.5431,\"time\":\"1660454271\"}'\n",
      "b'1660185958' b'{\"user\":\"swords\",\"ip\":\"159.65.204.223\",\"lon\":4.9392,\"lat\":52.352,\"time\":\"1660185958\"}'\n",
      "b'1657158728' b'{\"user\":\"wyl\",\"ip\":\"103.57.142.108\",\"lon\":72.8856,\"lat\":19.0748,\"time\":\"1657158728\"}'\n",
      "b'1661573412' b'{\"user\":\"minecraft\",\"ip\":\"121.4.246.227\",\"lon\":114.058,\"lat\":22.5431,\"time\":\"1661573412\"}'\n",
      "b'1656033290' b'{\"user\":\"mmagr\",\"ip\":\"188.166.191.6\",\"lon\":103.695,\"lat\":1.32123,\"time\":\"1656033290\"}'\n",
      "b'1660452883' b'{\"user\":\"admin\",\"ip\":\"60.10.160.73\",\"lon\":116.6832,\"lat\":39.5095,\"time\":\"1660452883\"}'\n",
      "b'1659187665' b'{\"user\":\"oracle\",\"ip\":\"51.77.116.67\",\"lon\":0.220802,\"lat\":51.4929,\"time\":\"1659187665\"}'\n",
      "b'1654700434' b'{\"user\":\"owner\",\"ip\":\"49.233.77.12\",\"lon\":114.058,\"lat\":22.5431,\"time\":\"1654700434\"}'\n",
      "b'1659675233' b'{\"user\":\"csgoserver\",\"ip\":\"216.13.26.79\",\"lon\":-79.7139,\"lat\":43.1854,\"time\":\"1659675233\"}'\n"
     ]
    }
   ],
   "source": [
    "# pull all keys from redis\n",
    "keys = r.keys()[0:10]\n",
    "for key in keys:\n",
    "    # pull data from redis\n",
    "    data = r.get(key)\n",
    "    # print key and data\n",
    "    print(key, data)"
   ]
  },
  {
   "cell_type": "code",
   "execution_count": null,
   "metadata": {},
   "outputs": [],
   "source": [
    "def processJson():\n",
    "    {\"time_local\": \"28/Sep/2022:03:48:05 +0000\", \"path\": \"/pma/scripts/setup.php\", \"ip\": \"103.230.87.32\", \"time\": \"2022-09-28T03:48:05+00:00\", \"user_agent\": \"-\", \"user_id_got\": \"-\", \"user_id_set\": \"-\", \"remote_user\": \"-\", \"request\": \"GET http://73.209.167.249:80/pma/scripts/setup.php HTTP/1.0\", \"status\": \"404\", \"body_bytes_sent\": \"383\", \"request_time\": \"0.002\", \"http_referrer\": \"-\" }\n",
    "\n",
    "def main():\n",
    "    conn.query(\"SELECT * FROM redis;\")\n"
   ]
  }
 ],
 "metadata": {
  "kernelspec": {
   "display_name": "Python 3.10.6 64-bit",
   "language": "python",
   "name": "python3"
  },
  "language_info": {
   "codemirror_mode": {
    "name": "ipython",
    "version": 3
   },
   "file_extension": ".py",
   "mimetype": "text/x-python",
   "name": "python",
   "nbconvert_exporter": "python",
   "pygments_lexer": "ipython3",
   "version": "3.10.6"
  },
  "orig_nbformat": 4,
  "vscode": {
   "interpreter": {
    "hash": "b0fa6594d8f4cbf19f97940f81e996739fb7646882a419484c72d19e05852a7e"
   }
  }
 },
 "nbformat": 4,
 "nbformat_minor": 2
}
